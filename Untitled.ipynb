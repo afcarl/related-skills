{
 "cells": [
  {
   "cell_type": "code",
   "execution_count": 1,
   "metadata": {
    "collapsed": true
   },
   "outputs": [],
   "source": [
    "skill = ['Oracle', 'SSRS', 'DBA', 'SQL Server']\n",
    "JD = \"\"\"\n",
    "The thoughts of a current employee…\n",
    "\"I have learnt a lot by working for them. I am meeting interesting people on a daily basis and I have thoroughly enjoyed working in my team. The team is varied between experienced and young staff members, which has led to a very efficient and creative working environment. \n",
    "I would highly recommend the company for anyone who wants to learn and have a good career progression.\"\n",
    "If this sounds like an employer you would like to work for and you have;\n",
    "*Experience of both SQL Server and Oracle\n",
    "*Strong interpersonal skills, ability to lead, direct and support colleagues and/or external stakeholders\n",
    "*Experience with SSRS, SSIS and SSAS\n",
    "*Familiarity of DBA tasks such as Mirroring, Replication, Disaster Recovery, Performance Tuning etc\n",
    "\n",
    "Please send your CV to or call on John-Paul Dixon on .\n",
    "\n",
    "Key words: SQL Server, MS SQL Server, SQL Developer, Database, Oracle, Cloud, DBA, SSRS, SSIS, Stored Procedures, Triggers, Functions, Views, Database Development, Replication, Automation, Integration, Mirroring, Disaster Recovery, London, QlikView, Tableau, AX, Biztalk\n",
    "\"\"\""
   ]
  },
  {
   "cell_type": "code",
   "execution_count": null,
   "metadata": {
    "collapsed": true
   },
   "outputs": [],
   "source": []
  }
 ],
 "metadata": {
  "kernelspec": {
   "display_name": "Python 2",
   "language": "python",
   "name": "python2"
  },
  "language_info": {
   "codemirror_mode": {
    "name": "ipython",
    "version": 2
   },
   "file_extension": ".py",
   "mimetype": "text/x-python",
   "name": "python",
   "nbconvert_exporter": "python",
   "pygments_lexer": "ipython2",
   "version": "2.7.11"
  }
 },
 "nbformat": 4,
 "nbformat_minor": 0
}
